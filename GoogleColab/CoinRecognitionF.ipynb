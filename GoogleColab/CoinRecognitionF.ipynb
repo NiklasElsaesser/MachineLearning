{
  "cells": [
    {
      "cell_type": "code",
      "execution_count": null,
      "metadata": {
        "id": "gHcWhgmjyO56"
      },
      "outputs": [],
      "source": [
        "from google.colab import drive\n",
        "drive.mount('/content/drive')"
      ]
    },
    {
      "cell_type": "markdown",
      "metadata": {
        "id": "6Hc_wj13rpp2"
      },
      "source": [
        "cloning the darknet.git and saving it in a new folder to access yolo"
      ]
    },
    {
      "cell_type": "code",
      "execution_count": null,
      "metadata": {
        "id": "CWzTszFO0DlP"
      },
      "outputs": [],
      "source": [
        "!git clone 'https://github.com/AlexeyAB/darknet.git' '/content/drive/MyDrive/ML-CoinRecognition/darknet'"
      ]
    },
    {
      "cell_type": "markdown",
      "metadata": {
        "id": "9pens9uQshAl"
      },
      "source": [
        "moving into the darknet folder to change the Makefile, since we are working in Google Colab it is neccesary to change the Makefile to run with a proper GPU.\n",
        "\n",
        "The values for the following References need to be changed:\n",
        "\n",
        "- GPU=1\n",
        "- CUDNN=1\n",
        "- OPENCV=1"
      ]
    },
    {
      "cell_type": "code",
      "execution_count": null,
      "metadata": {
        "id": "Ata887v-0K-D"
      },
      "outputs": [],
      "source": [
        "%cd '/content/drive/MyDrive/ML-CoinRecognition/darknet'"
      ]
    },
    {
      "cell_type": "markdown",
      "metadata": {
        "id": "Vj8hjSKzuBjF"
      },
      "source": [
        "running the Makefile (its sometimes necessary to clone the git Repo again when the make command throws an error). \n",
        "\n",
        "make sure to not delete the yolov3_custom.cfg and change the Makefile after cloning"
      ]
    },
    {
      "cell_type": "code",
      "execution_count": null,
      "metadata": {
        "id": "1VUJWhWGDTyy"
      },
      "outputs": [],
      "source": [
        "!make"
      ]
    },
    {
      "cell_type": "markdown",
      "metadata": {
        "id": "edNIIjI1A6Rs"
      },
      "source": [
        "open the yolov3.cfg file and set the batch and subdivision underneath training in the 5th line to uncommented and change the values to your training test split\n",
        "\n",
        "Furthermore it is neccesary to change:\n",
        "- *max batches* in line 20\n",
        "- *steps* in line 22\n",
        "- hit strg+f and search for **[yolo]** and change value of *classes*\n",
        "- the convolutional parameters above [yolo] need to be altered as well, make sure to change *filters* \n",
        "\n",
        "Additionally it is necessary to download an initial Yolo weight."
      ]
    },
    {
      "cell_type": "code",
      "execution_count": null,
      "metadata": {
        "id": "TXky1NWS_1IE"
      },
      "outputs": [],
      "source": [
        "!/content/drive/MyDrive/ML-CoinRecognition/darknet/darknet detector train /content/drive/MyDrive/ML-CoinRecognition/Yolo_NiklasEuros/labelled_data.data /content/drive/MyDrive/ML-CoinRecognition/darknet/cfg/yolov3_custom.cfg /content/drive/MyDrive/ML-CoinRecognition/custom_weight/darknet53.conv.74 -dont_show"
      ]
    },
    {
      "cell_type": "markdown",
      "metadata": {
        "id": "Ko4uRmZmwhV3"
      },
      "source": [
        "run the following command check if the training was successfull"
      ]
    },
    {
      "cell_type": "code",
      "execution_count": null,
      "metadata": {
        "id": "zKWJFnFTCQ86"
      },
      "outputs": [],
      "source": [
        "!/content/drive/MyDrive/ML-CoinRecognition/darknet/darknet"
      ]
    },
    {
      "cell_type": "markdown",
      "metadata": {
        "id": "xOWC97hPDZwX"
      },
      "source": [
        "this is for testing, uncomment if config is changed"
      ]
    },
    {
      "cell_type": "code",
      "execution_count": null,
      "metadata": {
        "id": "D0lXWYhyCx4X"
      },
      "outputs": [],
      "source": [
        "#!/content/drive/MyDrive/ML-CoinRecognition/darknet/darknet detector test /content/drive/MyDrive/ML-CoinRecognition/Yolo_NiklasEuros/labelled_data.data /content/drive/MyDrive/ML-CoinRecognition/darknet/cfg/yolov3_custom.cfg /content/drive/MyDrive/ML-CoinRecognition/custom_weight/darknet53.conv.74 -dont_show"
      ]
    }
  ],
  "metadata": {
    "accelerator": "GPU",
    "colab": {
      "provenance": []
    },
    "gpuClass": "premium",
    "kernelspec": {
      "display_name": "Python 3",
      "name": "python3"
    },
    "language_info": {
      "name": "python"
    }
  },
  "nbformat": 4,
  "nbformat_minor": 0
}
